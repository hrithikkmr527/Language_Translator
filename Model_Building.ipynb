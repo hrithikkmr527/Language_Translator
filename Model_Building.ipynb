{
 "cells": [
  {
   "cell_type": "code",
   "execution_count": 14,
   "metadata": {},
   "outputs": [],
   "source": [
    "NUM_SENTENCES = 20000 # Use only the first 20,000 records.\n",
    "MAX_NUM_WORDS = 20000 # Use 20,000 words for tokenizing\n",
    "MAX_SENT_LEN = 50\n",
    "\n",
    "EMBEDDING_SIZE = 100\n",
    "\n",
    "LSTM_NEURONS = 100\n",
    "\n",
    "BATCH_SIZE = 64\n",
    "EPOCHS = 5"
   ]
  },
  {
   "cell_type": "code",
   "execution_count": 15,
   "metadata": {},
   "outputs": [
    {
     "name": "stdout",
     "output_type": "stream",
     "text": [
      "Total inputs = 20000\n",
      "Total intermediate outputs = 20000\n",
      "Total outputs = 20000\n",
      "\n",
      "Sample:\n",
      "Got it?\n",
      "<sos> ¿Entendiste?\n",
      "¿Entendiste? <eos>\n"
     ]
    }
   ],
   "source": [
    "inputs = []\n",
    "outputs_i = []\n",
    "outputs = []\n",
    "\n",
    "data_file = open('data/spa-eng/spa.txt', encoding='utf-8')\n",
    "\n",
    "count = 0\n",
    "for line in data_file:\n",
    "    count += 1\n",
    "    if count > NUM_SENTENCES:\n",
    "        break\n",
    "    if '\\t' not in line:\n",
    "        continue\n",
    "    ip, temp_op, extra = line.rstrip().split('\\t')\n",
    "    op_i = '<sos> '+temp_op\n",
    "    op = temp_op+' <eos>'\n",
    "    inputs.append(ip)\n",
    "    outputs_i.append(op_i)\n",
    "    outputs.append(op)\n",
    "\n",
    "print('Total inputs =', len(inputs))\n",
    "print('Total intermediate outputs =', len(outputs_i))\n",
    "print('Total outputs =', len(outputs))\n",
    "print('\\nSample:')\n",
    "print(inputs[100])\n",
    "print(outputs_i[100])\n",
    "print(outputs[100])"
   ]
  },
  {
   "cell_type": "code",
   "execution_count": 16,
   "metadata": {},
   "outputs": [
    {
     "name": "stdout",
     "output_type": "stream",
     "text": [
      "Total unique words in input: 3746\n",
      "Length of longest sentence in input: 6\n",
      "Total unique words in output: 10553\n",
      "Length of longest sentence in output: 10\n"
     ]
    }
   ],
   "source": [
    "from keras.preprocessing.text import Tokenizer\n",
    "\n",
    "input_tokenizer = Tokenizer(num_words=MAX_NUM_WORDS)\n",
    "input_tokenizer.fit_on_texts(inputs)\n",
    "\n",
    "inputs_seq = input_tokenizer.texts_to_sequences(inputs)\n",
    "\n",
    "inputs_word2index = input_tokenizer.word_index\n",
    "print('Total unique words in input:', len(inputs_word2index))\n",
    "\n",
    "inputs_numwords = len(inputs_word2index)+1\n",
    "\n",
    "inputs_maxlen = max(len(s) for s in inputs_seq)\n",
    "print('Length of longest sentence in input:', inputs_maxlen)\n",
    "\n",
    "output_tokenizer = Tokenizer(num_words=MAX_NUM_WORDS, filters='')\n",
    "output_tokenizer.fit_on_texts(outputs_i + outputs)\n",
    "\n",
    "outputs_i_seq = output_tokenizer.texts_to_sequences(outputs_i)\n",
    "outputs_seq = output_tokenizer.texts_to_sequences(outputs)\n",
    "\n",
    "outputs_word2index = output_tokenizer.word_index\n",
    "print('Total unique words in output:', len(outputs_word2index))\n",
    "\n",
    "outputs_numwords = len(outputs_word2index)+1\n",
    "\n",
    "outputs_maxlen = max(len(s) for s in outputs_seq)\n",
    "print('Length of longest sentence in output:', outputs_maxlen)"
   ]
  },
  {
   "cell_type": "code",
   "execution_count": 17,
   "metadata": {},
   "outputs": [
    {
     "name": "stdout",
     "output_type": "stream",
     "text": [
      "encoder_input_sequences shape: (20000, 6)\n",
      "decoder_inputs_sequences shape: (20000, 10)\n",
      "decoder_output_sequences shape: (20000, 10)\n"
     ]
    }
   ],
   "source": [
    "from keras.preprocessing.sequence import pad_sequences\n",
    "\n",
    "encoder_input_sequences = pad_sequences(inputs_seq, maxlen=inputs_maxlen)\n",
    "print('encoder_input_sequences shape:', encoder_input_sequences.shape)\n",
    "\n",
    "decoder_input_sequences = pad_sequences(outputs_i_seq, maxlen=outputs_maxlen, padding='post')\n",
    "print('decoder_inputs_sequences shape:', decoder_input_sequences.shape)\n",
    "\n",
    "decoder_output_sequences = pad_sequences(outputs_seq, maxlen=outputs_maxlen, padding='post')\n",
    "print('decoder_output_sequences shape:', decoder_output_sequences.shape)"
   ]
  },
  {
   "cell_type": "code",
   "execution_count": 18,
   "metadata": {},
   "outputs": [],
   "source": [
    "from numpy import asarray, zeros\n",
    "\n",
    "embeddings_dict = dict()\n",
    "\n",
    "glove_file = open('data/glove.6B.100d.txt', encoding='utf8')\n",
    "\n",
    "for line in glove_file:\n",
    "    records = line.split()\n",
    "    word = records[0]\n",
    "    vector = asarray(records[1:], dtype='float32')\n",
    "    embeddings_dict[word] = vector\n",
    "\n",
    "glove_file.close()\n",
    "\n",
    "num_words = min(MAX_NUM_WORDS, len(inputs_word2index)+1)\n",
    "\n",
    "embedding_matrix = zeros((num_words, EMBEDDING_SIZE))\n",
    "\n",
    "for word, index in inputs_word2index.items():\n",
    "    embedding_vector = embeddings_dict.get(word)\n",
    "    if embedding_vector is not None:\n",
    "        embedding_matrix[index] = embedding_vector"
   ]
  },
  {
   "cell_type": "code",
   "execution_count": 19,
   "metadata": {},
   "outputs": [
    {
     "name": "stdout",
     "output_type": "stream",
     "text": [
      "decoder_outputs_onehot shape: (20000, 10, 10554)\n"
     ]
    }
   ],
   "source": [
    "from keras.layers import Input, Embedding, LSTM, Dense\n",
    "\n",
    "encoder_embedding_layer = Embedding(num_words, EMBEDDING_SIZE, weights=[embedding_matrix], input_length=inputs_maxlen)\n",
    "decoder_embedding_layer = Embedding(outputs_numwords, LSTM_NEURONS)\n",
    "\n",
    "decoder_outputs_onehot = zeros((len(inputs), outputs_maxlen, outputs_numwords), dtype='float32')\n",
    "print('decoder_outputs_onehot shape:', decoder_outputs_onehot.shape)\n",
    "\n",
    "for i, d in enumerate(decoder_output_sequences):\n",
    "    for t, w in enumerate(d):\n",
    "        decoder_outputs_onehot[i, t, w] = 1\n",
    "\n",
    "encoder_inputs = Input(shape=(inputs_maxlen,))\n",
    "encoder_inputs_emb = encoder_embedding_layer(encoder_inputs)\n",
    "encoder = LSTM(LSTM_NEURONS, return_state=True)\n",
    "encoder_outputs, h, c = encoder(encoder_inputs_emb)\n",
    "encoder_states = [h, c]\n",
    "\n",
    "decoder_inputs = Input(shape=(outputs_maxlen,))\n",
    "decoder_inputs_emb = decoder_embedding_layer(decoder_inputs)\n",
    "decoder = LSTM(LSTM_NEURONS, return_sequences=True, return_state=True)\n",
    "decoder_outputs, _, _ = decoder(decoder_inputs_emb, initial_state=encoder_states)\n",
    "\n",
    "output_dense_layer = Dense(outputs_numwords, activation='softmax')\n",
    "outputs = output_dense_layer(decoder_outputs)"
   ]
  },
  {
   "cell_type": "code",
   "execution_count": 20,
   "metadata": {},
   "outputs": [
    {
     "name": "stdout",
     "output_type": "stream",
     "text": [
      "Model: \"model_1\"\n",
      "__________________________________________________________________________________________________\n",
      " Layer (type)                Output Shape                 Param #   Connected to                  \n",
      "==================================================================================================\n",
      " input_5 (InputLayer)        [(None, 6)]                  0         []                            \n",
      "                                                                                                  \n",
      " input_6 (InputLayer)        [(None, 10)]                 0         []                            \n"
     ]
    },
    {
     "name": "stdout",
     "output_type": "stream",
     "text": [
      "                                                                                                  \n",
      " embedding_8 (Embedding)     (None, 6, 100)               374700    ['input_5[0][0]']             \n",
      "                                                                                                  \n",
      " embedding_9 (Embedding)     (None, 10, 100)              1055400   ['input_6[0][0]']             \n",
      "                                                                                                  \n",
      " lstm_4 (LSTM)               [(None, 100),                80400     ['embedding_8[0][0]']         \n",
      "                              (None, 100),                                                        \n",
      "                              (None, 100)]                                                        \n",
      "                                                                                                  \n",
      " lstm_5 (LSTM)               [(None, 10, 100),            80400     ['embedding_9[0][0]',         \n",
      "                              (None, 100),                           'lstm_4[0][1]',              \n",
      "                              (None, 100)]                           'lstm_4[0][2]']              \n",
      "                                                                                                  \n",
      " dense_1 (Dense)             (None, 10, 10554)            1065954   ['lstm_5[0][0]']              \n",
      "                                                                                                  \n",
      "==================================================================================================\n",
      "Total params: 2656854 (10.14 MB)\n",
      "Trainable params: 2656854 (10.14 MB)\n",
      "Non-trainable params: 0 (0.00 Byte)\n",
      "__________________________________________________________________________________________________\n",
      "None\n"
     ]
    }
   ],
   "source": [
    "from keras.models import Model\n",
    "\n",
    "model = Model([encoder_inputs, decoder_inputs], outputs)\n",
    "model.compile(optimizer='rmsprop', loss='categorical_crossentropy', metrics=['accuracy'])\n",
    "print(model.summary())"
   ]
  },
  {
   "cell_type": "code",
   "execution_count": 21,
   "metadata": {},
   "outputs": [
    {
     "data": {
      "image/png": "[encoded data removed]",
      "text/plain": [
       "<IPython.core.display.Image object>"
      ]
     },
     "execution_count": 21,
     "metadata": {},
     "output_type": "execute_result"
    }
   ],
   "source": [
    "from keras.utils import plot_model\n",
    "\n",
    "plot_model(model, to_file='models/model_trn_plot.png', show_shapes=True, show_layer_names=True)"
   ]
  },
  {
   "cell_type": "code",
   "execution_count": 22,
   "metadata": {},
   "outputs": [
    {
     "name": "stdout",
     "output_type": "stream",
     "text": [
      "Epoch 1/5\n",
      "282/282 [==============================] - 40s 121ms/step - loss: 3.2033 - accuracy: 0.6365 - val_loss: 2.7249 - val_accuracy: 0.6461\n",
      "Epoch 2/5\n",
      "282/282 [==============================] - 33s 116ms/step - loss: 2.2421 - accuracy: 0.7074 - val_loss: 2.6097 - val_accuracy: 0.6647\n",
      "Epoch 3/5\n",
      "282/282 [==============================] - 32s 114ms/step - loss: 2.1256 - accuracy: 0.7143 - val_loss: 2.4776 - val_accuracy: 0.6728\n",
      "Epoch 4/5\n",
      "282/282 [==============================] - 32s 114ms/step - loss: 2.0254 - accuracy: 0.7237 - val_loss: 2.3815 - val_accuracy: 0.6809\n",
      "Epoch 5/5\n",
      "282/282 [==============================] - 30s 108ms/step - loss: 1.9408 - accuracy: 0.7318 - val_loss: 2.3056 - val_accuracy: 0.6870\n"
     ]
    }
   ],
   "source": [
    "trn = model.fit([encoder_input_sequences, decoder_input_sequences],\n",
    "               decoder_outputs_onehot, \n",
    "               batch_size=BATCH_SIZE, epochs=EPOCHS, validation_split=0.1\n",
    "               )"
   ]
  },
  {
   "cell_type": "code",
   "execution_count": 23,
   "metadata": {},
   "outputs": [],
   "source": [
    "\n",
    "import pickle\n",
    "\n",
    "pickle.dump(model, open('models/model_trn.sav', 'wb'))"
   ]
  },
  {
   "cell_type": "code",
   "execution_count": 24,
   "metadata": {},
   "outputs": [
    {
     "name": "stdout",
     "output_type": "stream",
     "text": [
      "Model: \"model_2\"\n",
      "_________________________________________________________________\n"
     ]
    },
    {
     "name": "stdout",
     "output_type": "stream",
     "text": [
      " Layer (type)                Output Shape              Param #   \n",
      "=================================================================\n",
      " input_5 (InputLayer)        [(None, 6)]               0         \n",
      "                                                                 \n",
      " embedding_8 (Embedding)     (None, 6, 100)            374700    \n",
      "                                                                 \n",
      " lstm_4 (LSTM)               [(None, 100),             80400     \n",
      "                              (None, 100),                       \n",
      "                              (None, 100)]                       \n",
      "                                                                 \n",
      "=================================================================\n",
      "Total params: 455100 (1.74 MB)\n",
      "Trainable params: 455100 (1.74 MB)\n",
      "Non-trainable params: 0 (0.00 Byte)\n",
      "_________________________________________________________________\n",
      "None\n"
     ]
    }
   ],
   "source": [
    "encoder_model = Model(encoder_inputs, encoder_states)\n",
    "print(encoder_model.summary())"
   ]
  },
  {
   "cell_type": "code",
   "execution_count": 25,
   "metadata": {},
   "outputs": [
    {
     "data": {
      "image/png": "[encoded data removed]",
      "text/plain": [
       "<IPython.core.display.Image object>"
      ]
     },
     "execution_count": 25,
     "metadata": {},
     "output_type": "execute_result"
    }
   ],
   "source": [
    "plot_model(encoder_model, to_file='models/model_prd_enc_plot.png', show_shapes=True, show_layer_names=True)"
   ]
  },
  {
   "cell_type": "code",
   "execution_count": 26,
   "metadata": {},
   "outputs": [],
   "source": [
    "\n",
    "pickle.dump(encoder_model, open('models/model_prd_enc.sav', 'wb'))"
   ]
  },
  {
   "cell_type": "code",
   "execution_count": 27,
   "metadata": {},
   "outputs": [],
   "source": [
    "decoder_input_h = Input(shape=(LSTM_NEURONS,))\n",
    "decoder_input_c = Input(shape=(LSTM_NEURONS,))\n",
    "decoder_input_states = [decoder_input_h, decoder_input_c]\n",
    "\n",
    "decoder_input_word = Input(shape=(1,))\n",
    "decoder_input_word_emb = decoder_embedding_layer(decoder_input_word)\n",
    "\n",
    "decoder_outputs, h, c = decoder(decoder_input_word_emb, initial_state=decoder_input_states)\n",
    "decoder_states = [h, c]\n",
    "\n",
    "outputs = output_dense_layer(decoder_outputs)"
   ]
  },
  {
   "cell_type": "code",
   "execution_count": 28,
   "metadata": {},
   "outputs": [
    {
     "name": "stdout",
     "output_type": "stream",
     "text": [
      "Model: \"model_3\"\n",
      "__________________________________________________________________________________________________\n",
      " Layer (type)                Output Shape                 Param #   Connected to                  \n",
      "==================================================================================================\n",
      " input_9 (InputLayer)        [(None, 1)]                  0         []                            \n",
      "                                                                                                  \n",
      " embedding_9 (Embedding)     multiple                     1055400   ['input_9[0][0]']             \n",
      "                                                                                                  \n",
      " input_7 (InputLayer)        [(None, 100)]                0         []                            \n",
      "                                                                                                  \n",
      " input_8 (InputLayer)        [(None, 100)]                0         []                            \n",
      "                                                                                                  \n",
      " lstm_5 (LSTM)               multiple                     80400     ['embedding_9[1][0]',         \n",
      "                                                                     'input_7[0][0]',             \n",
      "                                                                     'input_8[0][0]']             \n",
      "                                                                                                  \n",
      " dense_1 (Dense)             multiple                     1065954   ['lstm_5[1][0]']              \n",
      "                                                                                                  \n",
      "==================================================================================================\n",
      "Total params: 2201754 (8.40 MB)\n",
      "Trainable params: 2201754 (8.40 MB)\n",
      "Non-trainable params: 0 (0.00 Byte)\n",
      "__________________________________________________________________________________________________\n",
      "None\n"
     ]
    }
   ],
   "source": [
    "decoder_model = Model([decoder_input_word]+decoder_input_states, [outputs]+decoder_states)\n",
    "print(decoder_model.summary())"
   ]
  },
  {
   "cell_type": "code",
   "execution_count": 29,
   "metadata": {},
   "outputs": [
    {
     "data": {
      "image/png": "[encoded data removed]",
      "text/plain": [
       "<IPython.core.display.Image object>"
      ]
     },
     "execution_count": 29,
     "metadata": {},
     "output_type": "execute_result"
    }
   ],
   "source": [
    "plot_model(decoder_model, to_file='models/model_prd_dec_plot.png', show_shapes=True, show_layer_names=True)"
   ]
  },
  {
   "cell_type": "code",
   "execution_count": 30,
   "metadata": {},
   "outputs": [],
   "source": [
    "pickle.dump(decoder_model, open('models/model_prd_dec.sav', 'wb'))"
   ]
  },
  {
   "cell_type": "code",
   "execution_count": 31,
   "metadata": {},
   "outputs": [],
   "source": [
    "from numpy import argmax\n",
    "\n",
    "index_to_word_input = {v:k for k,v in inputs_word2index.items()}\n",
    "index_to_word_output = {v:k for k,v in outputs_word2index.items()}\n",
    "\n",
    "def translate(input_seq):\n",
    "    states = encoder_model.predict(input_seq)\n",
    "    \n",
    "    sos = outputs_word2index['<sos>']\n",
    "    eos = outputs_word2index['<eos>']\n",
    "    \n",
    "    output_seq = zeros((1, 1))\n",
    "    output_seq[0, 0] = sos\n",
    "    \n",
    "    output_sentence = []\n",
    "    \n",
    "    for _ in range(outputs_maxlen):\n",
    "        output_tokens, h, c = decoder_model.predict([output_seq]+states)\n",
    "        idx = argmax(output_tokens[0, 0, :])\n",
    "        \n",
    "        if idx == eos:\n",
    "            break     \n",
    "        word = ''\n",
    "        if idx > 0:\n",
    "            word = index_to_word_output[idx]\n",
    "            output_sentence.append(word)\n",
    "        \n",
    "        states = [h, c]\n",
    "        output_seq[0, 0] = idx\n",
    "    \n",
    "    return ' '.join(output_sentence)"
   ]
  },
  {
   "cell_type": "code",
   "execution_count": 33,
   "metadata": {},
   "outputs": [
    {
     "name": "stdout",
     "output_type": "stream",
     "text": [
      "1/1 [==============================] - 0s 20ms/step\n",
      "1/1 [==============================] - 0s 19ms/step\n",
      "1/1 [==============================] - 0s 20ms/step\n",
      "1/1 [==============================] - 0s 19ms/step\n",
      "1/1 [==============================] - 0s 18ms/step\n",
      "1/1 [==============================] - 0s 20ms/step\n",
      "1/1 [==============================] - 0s 22ms/step\n",
      "Input: What should I buy?\n",
      "Response: yo no gusta a tom.\n"
     ]
    }
   ],
   "source": [
    "from numpy import random\n",
    "\n",
    "i = random.choice(len(inputs))\n",
    "input_seq = encoder_input_sequences[i:i+1]\n",
    "translation = translate(input_seq)\n",
    "\n",
    "print('Input:', inputs[i])\n",
    "print('Response:', translation)"
   ]
  }
 ],
 "metadata": {
  "kernelspec": {
   "display_name": "Python 3",
   "language": "python",
   "name": "python3"
  },
  "language_info": {
   "codemirror_mode": {
    "name": "ipython",
    "version": 3
   },
   "file_extension": ".py",
   "mimetype": "text/x-python",
   "name": "python",
   "nbconvert_exporter": "python",
   "pygments_lexer": "ipython3",
   "version": "3.11.4"
  }
 },
 "nbformat": 4,
 "nbformat_minor": 2
}
